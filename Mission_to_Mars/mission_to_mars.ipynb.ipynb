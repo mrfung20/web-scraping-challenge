{
 "cells": [
  {
   "cell_type": "code",
   "execution_count": null,
   "source": [
    "from splinter import Browser\r\n",
    "from bs4 import BeautifulSoup\r\n",
    "from webdriver_manager.chrome import ChromeDriverManager\r\n",
    "import pandas as pd\r\n",
    "import web_scraping"
   ],
   "outputs": [],
   "metadata": {}
  },
  {
   "cell_type": "code",
   "execution_count": null,
   "source": [
    "executable_path = {'executable_path': ChromeDriverManager().install()}\r\n",
    "browser = Browser('chrome', **executable_path, headless=False)"
   ],
   "outputs": [],
   "metadata": {}
  },
  {
   "cell_type": "code",
   "execution_count": null,
   "source": [
    "url = 'http://redplanetscience.com/#'\r\n",
    "browser.visit(url)"
   ],
   "outputs": [],
   "metadata": {}
  },
  {
   "cell_type": "code",
   "execution_count": null,
   "source": [
    "html = browser.html\r\n",
    "soup = BeautifulSoup(html, 'html.parser')\r\n",
    "\r\n",
    "titles = soup.find_all('div', class_='content_title')\r\n",
    "summaries = soup.find_all('div', class_='article_teaser_body')\r\n",
    "\r\n",
    "titles_list = []\r\n",
    "summaries_list = []\r\n",
    "\r\n",
    "# Iterate through each article\r\n",
    "for x in range(1):\r\n",
    "    # Use Beautiful Soup's find() method to navigate and retrieve attributes\r\n",
    "    title = titles[x].text.strip()\r\n",
    "    titles_list.append(title)\r\n",
    "    \r\n",
    "for x in range(1):\r\n",
    "    # Use Beautiful Soup's find() method to navigate and retrieve attributes\r\n",
    "    summary = summaries[x].text.strip()\r\n",
    "    summaries_list.append(summary)\r\n",
    "\r\n",
    "titles_and_summaries = zip(titles_list, summaries_list)\r\n",
    "\r\n",
    "try:\r\n",
    "        browser.links.find_by_partial_text('next').click()\r\n",
    "          \r\n",
    "except:\r\n",
    "        print(\"Scraping Complete\")"
   ],
   "outputs": [],
   "metadata": {}
  },
  {
   "cell_type": "code",
   "execution_count": null,
   "source": [
    "summaries_list\r\n",
    "titles_list"
   ],
   "outputs": [],
   "metadata": {}
  },
  {
   "cell_type": "code",
   "execution_count": null,
   "source": [
    "executable_path = {'executable_path': ChromeDriverManager().install()}\r\n",
    "browser = Browser('chrome', **executable_path, headless=False)"
   ],
   "outputs": [],
   "metadata": {}
  },
  {
   "cell_type": "code",
   "execution_count": null,
   "source": [
    "url = \"https://spaceimages-mars.com/\"\r\n",
    "browser.visit(url)\r\n",
    "\r\n",
    "fancy_image_url = 'https://spaceimages-mars.com/image/featured/mars2.jpg'"
   ],
   "outputs": [],
   "metadata": {}
  },
  {
   "cell_type": "code",
   "execution_count": null,
   "source": [
    "url = 'https://galaxyfacts-mars.com/'\r\n",
    "browser.visit(url)\r\n"
   ],
   "outputs": [],
   "metadata": {}
  },
  {
   "cell_type": "code",
   "execution_count": null,
   "source": [
    "tables = pd.read_html(url)\r\n",
    "tables"
   ],
   "outputs": [],
   "metadata": {}
  },
  {
   "cell_type": "code",
   "execution_count": null,
   "source": [
    "df = tables[0]\r\n",
    "df.head()\r\n",
    "df.rename(columns={0:'',1:\"Mars\",2:\"Earth\"},inplace='True')\r\n",
    "df.head()\r\n",
    "df.loc[-1] = ['Description','','']\r\n",
    "df.index = df.index + 1\r\n",
    "df = df.sort_index()\r\n",
    "df"
   ],
   "outputs": [],
   "metadata": {}
  },
  {
   "cell_type": "code",
   "execution_count": null,
   "source": [
    "html_table = df.to_html()\r\n",
    "html_table = html_table.replace('\\n', '')\r\n",
    "html_table"
   ],
   "outputs": [],
   "metadata": {}
  },
  {
   "cell_type": "code",
   "execution_count": null,
   "source": [
    "df.to_html('table.html')"
   ],
   "outputs": [],
   "metadata": {}
  },
  {
   "cell_type": "code",
   "execution_count": null,
   "source": [
    "url = 'https://marshemispheres.com/'\r\n",
    "browser.visit(url)\r\n"
   ],
   "outputs": [],
   "metadata": {}
  },
  {
   "cell_type": "code",
   "execution_count": null,
   "source": [
    "html = browser.html\r\n",
    "soup = BeautifulSoup(html, 'html.parser')\r\n",
    "\r\n",
    "img__links_list=[]\r\n",
    "img_titles_list=[]\r\n",
    "\r\n",
    "titles = soup.find_all('div', class_='description')\r\n",
    "links = soup.find_all('img', class_='thumb')\r\n",
    "\r\n",
    "for link in links:\r\n",
    "    image_link = link['src']\r\n",
    "    image_full_link = f\"https://marshemispheres.com/{image_link}\"\r\n",
    "    img__links_list.append(image_full_link)\r\n",
    "    \r\n",
    "\r\n",
    "for title in titles:\r\n",
    "     a = title.find('a')\r\n",
    "     image_title = a.find('h3').text.strip()\r\n",
    "     img_titles_list.append(image_title)\r\n",
    "try:\r\n",
    "        browser.links.find_by_partial_text('next').click()\r\n",
    "          \r\n",
    "except:\r\n",
    "        print(\"Scraping Complete\")\r\n",
    "\r\n"
   ],
   "outputs": [],
   "metadata": {}
  },
  {
   "cell_type": "code",
   "execution_count": null,
   "source": [
    "img__links_list\r\n",
    "img_titles_list\r\n"
   ],
   "outputs": [],
   "metadata": {}
  },
  {
   "cell_type": "code",
   "execution_count": null,
   "source": [
    "images_dict = []\r\n",
    "for x in range(0,4):\r\n",
    "    images_dict.append({\"title\":img_titles_list[x],\"img_url\":img__links_list[x]})\r\n",
    "images_dict"
   ],
   "outputs": [],
   "metadata": {}
  },
  {
   "cell_type": "code",
   "execution_count": null,
   "source": [
    "web_scraping.web_scraping()"
   ],
   "outputs": [],
   "metadata": {}
  }
 ],
 "metadata": {
  "orig_nbformat": 4,
  "language_info": {
   "name": "python",
   "version": "3.6.10",
   "mimetype": "text/x-python",
   "codemirror_mode": {
    "name": "ipython",
    "version": 3
   },
   "pygments_lexer": "ipython3",
   "nbconvert_exporter": "python",
   "file_extension": ".py"
  },
  "kernelspec": {
   "name": "python3",
   "display_name": "Python 3.6.10 64-bit ('PythonData': conda)"
  },
  "interpreter": {
   "hash": "2f3a706b34eb0ea9bbb028628723f5cd93895146db5a4b3f252e9288b7f6741a"
  }
 },
 "nbformat": 4,
 "nbformat_minor": 2
}